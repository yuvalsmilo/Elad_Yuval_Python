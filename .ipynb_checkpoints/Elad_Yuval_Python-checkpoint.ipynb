{
 "cells": [
  {
   "cell_type": "code",
   "execution_count": 1,
   "metadata": {},
   "outputs": [
    {
     "name": "stdout",
     "output_type": "stream",
     "text": [
      "Hi Elad\n"
     ]
    }
   ],
   "source": [
    "print('Hi Elad')"
   ]
  },
  {
   "cell_type": "code",
   "execution_count": 1,
   "metadata": {},
   "outputs": [
    {
     "name": "stdout",
     "output_type": "stream",
     "text": [
      "Hi Yuval\n"
     ]
    }
   ],
   "source": [
    "print('Hi Yuval')"
   ]
  },
  {
   "cell_type": "markdown",
   "metadata": {},
   "source": [
    "# Title"
   ]
  },
  {
   "cell_type": "markdown",
   "metadata": {},
   "source": [
    "## subtitle"
   ]
  },
  {
   "cell_type": "markdown",
   "metadata": {},
   "source": [
    "1. one\n",
    "2. two"
   ]
  },
  {
   "cell_type": "markdown",
   "metadata": {},
   "source": [
    "### matplotlib qt example"
   ]
  },
  {
   "cell_type": "code",
   "execution_count": 9,
   "metadata": {},
   "outputs": [],
   "source": [
    "%matplotlib qt\n",
    "\n",
    "# Import the necessary packages and modules\n",
    "import matplotlib.pyplot as plt\n",
    "import numpy as np\n",
    "\n",
    "# Prepare the data\n",
    "x = np.linspace(0, 10, 100)\n",
    "\n",
    "# Plot the data\n",
    "plt.plot(x, x, label='linear')\n",
    "\n",
    "# Add a legend\n",
    "plt.legend()\n",
    "\n",
    "# Show the plot\n",
    "plt.show()"
   ]
  },
  {
   "cell_type": "markdown",
   "metadata": {},
   "source": [
    "### interactive sheets and figures in _Jupyter_"
   ]
  },
  {
   "cell_type": "markdown",
   "metadata": {},
   "source": [
    "https://towardsdatascience.com/interactive-spreadsheets-in-jupyter-32ab6ec0f4ff"
   ]
  },
  {
   "cell_type": "markdown",
   "metadata": {},
   "source": [
    "### Interactive DataFrames Qgrid\n",
    "\n",
    "![alt text](https://miro.medium.com/max/1704/1*POK_caDkAte854KGFiL4hw.gif \"Qgrid\")"
   ]
  },
  {
   "cell_type": "markdown",
   "metadata": {},
   "source": [
    "https://github.com/quantopian/qgrid\n",
    "\n",
    "pip install qgrid\n",
    "jupyter nbextension enable --py --sys-prefix qgrid\n",
    "\n",
    "##### only required if you have not enabled the ipywidgets nbextension yet\n",
    "jupyter nbextension enable --py --sys-prefix widgetsnbextension\n",
    "\n",
    "### Jupyterlab Installation\n",
    "First, go through the normal installation steps above as you normally would when using qgrid in the notebook. If you haven't already install jupyterlab and enabled ipywidgets, do that first with the following lines:\n",
    "\n",
    "pip install jupyterlab\n",
    "jupyter labextension install @jupyter-widgets/jupyterlab-manager\n",
    "\n",
    "#### Install the qgrid-jupyterlab extension and enable:\n",
    "\n",
    "jupyter labextension install qgrid2\n",
    "\n",
    "#### At this point if you run jupyter lab normally with the 'jupyter lab' command, you should be able to use qgrid in notebooks as you normally would.\n",
    "\n",
    "### Jupyter ipywidgets installation\n",
    "pip install ipywidgets\n",
    "jupyter nbextension enable --py --sys-prefix widgetsnbextension  # can be skipped for notebook version 5.3 and above"
   ]
  },
  {
   "cell_type": "markdown",
   "metadata": {},
   "source": [
    "### Interactive dataframes pivottablejs\n",
    "\n",
    "\n",
    "![alt text](https://miro.medium.com/max/2523/1*aspDnS-j5m00P70OfdRySA.gif \"pivottablejs\")\n",
    "https://pypi.org/project/pivottablejs/\n"
   ]
  },
  {
   "cell_type": "code",
   "execution_count": null,
   "metadata": {},
   "outputs": [],
   "source": [
    "!pip install pivottablejs\n",
    "from pivottablejs import pivot_ui\n",
    "pivot_ui(df,outfile_path=’pivottablejs.html’)\n",
    "HTML(‘pivottablejs.html’)"
   ]
  },
  {
   "cell_type": "markdown",
   "metadata": {},
   "source": [
    "Or"
   ]
  },
  {
   "cell_type": "code",
   "execution_count": null,
   "metadata": {},
   "outputs": [],
   "source": [
    "import pandas as pd\n",
    "df = pd.read_csv(\"some_input.csv\")\n",
    "\n",
    "from pivottablejs import pivot_ui\n",
    "\n",
    "pivot_ui(df)"
   ]
  },
  {
   "cell_type": "markdown",
   "metadata": {},
   "source": [
    "### Jupyter debugger\n",
    "https://medium.com/codait/the-visual-python-debugger-for-jupyter-notebooks-youve-always-wanted-761713babc62"
   ]
  },
  {
   "cell_type": "code",
   "execution_count": null,
   "metadata": {},
   "outputs": [],
   "source": []
  }
 ],
 "metadata": {
  "kernelspec": {
   "display_name": "Python 3",
   "language": "python",
   "name": "python3"
  },
  "language_info": {
   "codemirror_mode": {
    "name": "ipython",
    "version": 3
   },
   "file_extension": ".py",
   "mimetype": "text/x-python",
   "name": "python",
   "nbconvert_exporter": "python",
   "pygments_lexer": "ipython3",
   "version": "3.7.4"
  }
 },
 "nbformat": 4,
 "nbformat_minor": 2
}
